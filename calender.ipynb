{
  "nbformat": 4,
  "nbformat_minor": 0,
  "metadata": {
    "colab": {
      "provenance": [],
      "authorship_tag": "ABX9TyO9mqVZUX0pF4iJzJqOGwPU",
      "include_colab_link": true
    },
    "kernelspec": {
      "name": "python3",
      "display_name": "Python 3"
    },
    "language_info": {
      "name": "python"
    }
  },
  "cells": [
    {
      "cell_type": "markdown",
      "metadata": {
        "id": "view-in-github",
        "colab_type": "text"
      },
      "source": [
        "<a href=\"https://colab.research.google.com/github/ha713/23python3rd/blob/main/calender.ipynb\" target=\"_parent\"><img src=\"https://colab.research.google.com/assets/colab-badge.svg\" alt=\"Open In Colab\"/></a>"
      ]
    },
    {
      "cell_type": "code",
      "execution_count": 3,
      "metadata": {
        "colab": {
          "base_uri": "https://localhost:8080/"
        },
        "id": "0IUmb61fY3fK",
        "outputId": "56d4c049-b51f-4e11-b404-5cf887108ed5"
      },
      "outputs": [
        {
          "output_type": "stream",
          "name": "stdout",
          "text": [
            "    October 2023\n",
            "Mo Tu We Th Fr Sa Su\n",
            "                   1\n",
            " 2  3  4  5  6  7  8\n",
            " 9 10 11 12 13 14 15\n",
            "16 17 18 19 20 21 22\n",
            "23 24 25 26 27 28 29\n",
            "30 31\n",
            "\n"
          ]
        }
      ],
      "source": [
        "import  calendar\n",
        "yy = 2023\n",
        "mm = 10\n",
        "print(calendar.month(yy,mm))\n"
      ]
    },
    {
      "cell_type": "markdown",
      "source": [
        "2023년 10월 19일 to do list\n",
        "- 09:10~11:00 컴퓨팅적 사고와 기초코딩\n",
        "- 11:00~12:00 아동건강교육\n",
        "- 12:00~13:00 점심시간\n",
        "- 13:00~16:00 근로\n",
        "- 16:00~20;00 수면시간\n",
        "- 20:00~24:00 기말공부타임\n",
        "\n",
        "\n",
        "Hello World\n"
      ],
      "metadata": {
        "id": "BTXrx30JastD"
      }
    },
    {
      "cell_type": "code",
      "source": [
        "print(\"2023년 10월 19일 to do list\")\n",
        "print(\"09:10~11:00 컴퓨팅적 사고와 기초코딩\")\n",
        "print(\"11:00~12:00 아동건강교육\")\n",
        "print(\"12:00~13:00 점심시간\")\n",
        "print(\"13:00~16:00 근로\")\n",
        "print(\"16:00~20;00 수면시간\")\n",
        "print(\"20:00~24:00 기말공부타임\")\n"
      ],
      "metadata": {
        "colab": {
          "base_uri": "https://localhost:8080/"
        },
        "id": "SdYO2mJGfMjA",
        "outputId": "a3961cf7-2734-4623-adb5-773cc82a76ab"
      },
      "execution_count": 6,
      "outputs": [
        {
          "output_type": "stream",
          "name": "stdout",
          "text": [
            "2023년 10월 19일 to do list\n",
            "09:10~11:00 컴퓨팅적 사고와 기초코딩\n",
            "11:00~12:00 아동건강교육\n",
            "12:00~13:00 점심시간\n",
            "13:00~16:00 근로\n",
            "16:00~20;00 수면시간\n",
            "20:00~24:00 기말공부타임\n"
          ]
        }
      ]
    }
  ]
}